{
 "cells": [
  {
   "attachments": {},
   "cell_type": "markdown",
   "metadata": {},
   "source": [
    "## Prepare POSCAR files and VASP input files from PDB CO2 configurations"
   ]
  },
  {
   "cell_type": "code",
   "execution_count": 1,
   "metadata": {},
   "outputs": [],
   "source": [
    "import numpy as np\n",
    "import matplotlib.pyplot as plt\n",
    "import os\n",
    "import subprocess\n",
    "\n",
    "from ase import Atoms\n",
    "from ase.io import read, write\n",
    "from pymatgen.io.cif import CifParser\n",
    "from shutil import copy2\n",
    "\n",
    "plt.rcParams['font.size'] = '15'"
   ]
  },
  {
   "cell_type": "code",
   "execution_count": 2,
   "metadata": {},
   "outputs": [],
   "source": [
    "# define some parameters\n",
    "# Constant\n",
    "# k2kjmol = 0.00831446 # constants. Convert K to kJ/mol\n",
    "\n",
    "# number of movie frames\n",
    "nframe = 1\n",
    "\n",
    "# MOF CONTCAR information\n",
    "# Take CONTCAR from single point calculations of MOF \n",
    "mof_file = \"sp_mof211/CONTCAR\"\n",
    "\n",
    "# Movie file\n",
    "movie_file = \"co2_movie_2000_211.pdb\""
   ]
  },
  {
   "cell_type": "code",
   "execution_count": 3,
   "metadata": {},
   "outputs": [],
   "source": [
    "# read CONTCAR file\n",
    "mof = read(mof_file)"
   ]
  },
  {
   "cell_type": "code",
   "execution_count": 4,
   "metadata": {},
   "outputs": [],
   "source": [
    "co2 = [0 for i in range(nframe)]\n",
    "\n",
    "# Read the movie file into a numpy array\n",
    "# read PDF file\n",
    "f = open(movie_file)\n",
    "\n",
    "# loop over each frame\n",
    "for i in range(nframe):\n",
    "\n",
    "    # read first two lines\n",
    "    line = [next(f).strip().split() for x in range(2)]\n",
    "\n",
    "    symbols = []\n",
    "    pos = []\n",
    "    cell = mof.cell\n",
    "\n",
    "    while 1:\n",
    "        line = next(f).strip().split()\n",
    "\n",
    "        if line[0] == 'ENDMDL':\n",
    "            break\n",
    "\n",
    "        symbols.append(line[2])\n",
    "        pos.append([float(line[4]), \n",
    "                    float(line[5]), \n",
    "                    float(line[6])])\n",
    "    \n",
    "    # create Atoms object\n",
    "    co2[i] = Atoms(symbols=symbols, positions=pos, cell=cell, pbc=True)\n"
   ]
  },
  {
   "cell_type": "code",
   "execution_count": 5,
   "metadata": {},
   "outputs": [
    {
     "data": {
      "text/plain": [
       "1"
      ]
     },
     "execution_count": 5,
     "metadata": {},
     "output_type": "execute_result"
    }
   ],
   "source": [
    "len(co2)"
   ]
  },
  {
   "cell_type": "code",
   "execution_count": 6,
   "metadata": {},
   "outputs": [
    {
     "name": "stdout",
     "output_type": "stream",
     "text": [
      "Submitted batch job 10473679\n",
      "Submitted batch job 10473680\n"
     ]
    }
   ],
   "source": [
    "# change directory\n",
    "os.chdir('sp_system')\n",
    "path0 = os.getcwd()\n",
    "\n",
    "os.chdir('all_211')\n",
    "path1 = os.getcwd()\n",
    "\n",
    "# create a directory for each element in co2 list\n",
    "for i in range(len(co2)):\n",
    "\n",
    "    dir_name = str(i)  \n",
    "\n",
    "    os.chdir(path1)\n",
    "    os.mkdir(dir_name)\n",
    "\n",
    "    ##### create a CO2 DFT runs for reference\n",
    "    os.chdir(dir_name)\n",
    "    os.mkdir('co2')\n",
    "    os.chdir('co2')\n",
    "\n",
    "    # write POSCAR file\n",
    "    write('POSCAR',co2[i])  \n",
    "    # copy other input files to this directory\n",
    "    copy2(path0+'/INCAR', './')\n",
    "    copy2(path0+'/KPOINTS', './')\n",
    "    copy2(path0+'/perl_gpu.sh', './')\n",
    "    copy2(path0+'/POTCAR_co2', './POTCAR')\n",
    "    copy2(path0+'/vdw_kernel.bindat', './')\n",
    "\n",
    "    # submit jobs \n",
    "    subprocess.run(['sbatch', 'perl_gpu.sh'])\n",
    "\n",
    "    ##### create a CO2+MOF DFT runs \n",
    "    os.chdir(path1+'/'+dir_name)\n",
    "    os.mkdir('system')\n",
    "    os.chdir('system')\n",
    "\n",
    "    # write POSCAR file\n",
    "    system = mof + co2[i]\n",
    "    write('POSCAR',system)\n",
    "    # copy other input files to this directory\n",
    "    copy2(path0+'/INCAR', './')\n",
    "    copy2(path0+'/KPOINTS', './')\n",
    "    copy2(path0+'/perl_gpu.sh', './')\n",
    "    copy2(path0+'/POTCAR_system', './POTCAR')\n",
    "    copy2(path0+'/vdw_kernel.bindat', './')\n",
    "    \n",
    "    # submit jobs \n",
    "    subprocess.run(['sbatch', 'perl_gpu.sh'])\n",
    "\n",
    "    \n",
    "\n"
   ]
  },
  {
   "cell_type": "code",
   "execution_count": null,
   "metadata": {},
   "outputs": [],
   "source": []
  }
 ],
 "metadata": {
  "kernelspec": {
   "display_name": "Python 3",
   "language": "python",
   "name": "python3"
  },
  "language_info": {
   "codemirror_mode": {
    "name": "ipython",
    "version": 3
   },
   "file_extension": ".py",
   "mimetype": "text/x-python",
   "name": "python",
   "nbconvert_exporter": "python",
   "pygments_lexer": "ipython3",
   "version": "3.9.7"
  },
  "orig_nbformat": 4
 },
 "nbformat": 4,
 "nbformat_minor": 2
}
